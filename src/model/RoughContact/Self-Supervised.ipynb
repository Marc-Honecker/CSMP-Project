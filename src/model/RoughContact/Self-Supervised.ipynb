{
 "cells": [
  {
   "cell_type": "code",
   "execution_count": 32,
   "metadata": {
    "vscode": {
     "languageId": "r"
    }
   },
   "outputs": [],
   "source": [
    "library(ssr)\n",
    "library(caret)\n",
    "library(glmnet)\n",
    "library(Matrix)\n",
    "library(elasticnet)\n",
    "library(randomForest)"
   ]
  },
  {
   "cell_type": "code",
   "execution_count": 24,
   "metadata": {
    "vscode": {
     "languageId": "r"
    }
   },
   "outputs": [],
   "source": [
    "roughContact1 <- read.csv('../../../data/RoughContact/newPulloffJan28th.csv', header = TRUE,  sep = ';')[, -1]\n",
    "roughContact2 <- read.csv('../../../data/RoughContact/pulloff4AIlabelled.csv', header = TRUE,  sep = ',')[, -1]\n",
    "roughContactUnlabeled <- read.csv('../../../data/RoughContact/pulloff_unlabeled.csv', header = TRUE, sep = ',')[, -1]\n",
    "\n",
    "roughContact <- rbind(roughContact1, roughContact2)\n",
    "\n",
    "set.seed(43957)\n",
    "\n",
    "L <- split_train_test(roughContact[, -1], pctTrain = 80)\n",
    "U <- roughContactUnlabeled[, -1]"
   ]
  },
  {
   "cell_type": "code",
   "execution_count": 43,
   "metadata": {
    "vscode": {
     "languageId": "r"
    }
   },
   "outputs": [
    {
     "name": "stdout",
     "output_type": "stream",
     "text": [
      "[1] \"Initial RMSE on testdata: 0.0397\"\n",
      "[1] \"Iteration 1 (testdata) RMSE: 0.0391 Improvement: 1.40%\"\n",
      "[1] \"Iteration 2 (testdata) RMSE: 0.0388 Improvement: 2.15%\"\n",
      "[1] \"Iteration 3 (testdata) RMSE: 0.0386 Improvement: 2.66%\"\n",
      "[1] \"Iteration 4 (testdata) RMSE: 0.0383 Improvement: 3.58%\"\n",
      "[1] \"Iteration 5 (testdata) RMSE: 0.0379 Improvement: 4.45%\"\n",
      "[1] \"Iteration 6 (testdata) RMSE: 0.0376 Improvement: 5.25%\"\n",
      "[1] \"Iteration 7 (testdata) RMSE: 0.0374 Improvement: 5.85%\"\n",
      "[1] \"Iteration 8 (testdata) RMSE: 0.0371 Improvement: 6.44%\"\n",
      "[1] \"Iteration 9 (testdata) RMSE: 0.0371 Improvement: 6.58%\"\n",
      "[1] \"Iteration 10 (testdata) RMSE: 0.0372 Improvement: 6.31%\"\n",
      "[1] \"Iteration 11 (testdata) RMSE: 0.0371 Improvement: 6.50%\"\n",
      "[1] \"Iteration 12 (testdata) RMSE: 0.0372 Improvement: 6.35%\"\n",
      "[1] \"Iteration 13 (testdata) RMSE: 0.0371 Improvement: 6.60%\"\n",
      "[1] \"Iteration 14 (testdata) RMSE: 0.0370 Improvement: 6.85%\"\n",
      "[1] \"Iteration 15 (testdata) RMSE: 0.0370 Improvement: 6.78%\"\n",
      "[1] \"Iteration 16 (testdata) RMSE: 0.0370 Improvement: 6.77%\"\n",
      "[1] \"Iteration 17 (testdata) RMSE: 0.0371 Improvement: 6.47%\"\n",
      "[1] \"Iteration 18 (testdata) RMSE: 0.0372 Improvement: 6.19%\"\n",
      "[1] \"Iteration 19 (testdata) RMSE: 0.0373 Improvement: 6.15%\"\n",
      "[1] \"Iteration 20 (testdata) RMSE: 0.0372 Improvement: 6.23%\"\n",
      "[1] \"Iteration 21 (testdata) RMSE: 0.0372 Improvement: 6.25%\"\n",
      "[1] \"Iteration 22 (testdata) RMSE: 0.0372 Improvement: 6.22%\"\n",
      "[1] \"Iteration 23 (testdata) RMSE: 0.0373 Improvement: 6.14%\"\n",
      "[1] \"Iteration 24 (testdata) RMSE: 0.0373 Improvement: 6.04%\"\n",
      "[1] \"Iteration 25 (testdata) RMSE: 0.0373 Improvement: 6.04%\"\n",
      "[1] \"Iteration 26 (testdata) RMSE: 0.0373 Improvement: 6.04%\"\n",
      "[1] \"Iteration 27 (testdata) RMSE: 0.0373 Improvement: 6.04%\"\n",
      "[1] \"Iteration 28 (testdata) RMSE: 0.0373 Improvement: 6.08%\"\n",
      "[1] \"Iteration 29 (testdata) RMSE: 0.0373 Improvement: 6.08%\"\n",
      "[1] \"Iteration 30 (testdata) RMSE: 0.0373 Improvement: 6.08%\"\n",
      "[1] \"Iteration 31 (testdata) RMSE: 0.0373 Improvement: 6.08%\"\n",
      "[1] \"Iteration 32 (testdata) RMSE: 0.0373 Improvement: 6.08%\"\n",
      "[1] \"Iteration 33 (testdata) RMSE: 0.0373 Improvement: 6.08%\"\n",
      "[1] \"Iteration 34 (testdata) RMSE: 0.0373 Improvement: 6.08%\"\n",
      "[1] \"Iteration 35 (testdata) RMSE: 0.0373 Improvement: 6.08%\"\n",
      "[1] \"Iteration 36 (testdata) RMSE: 0.0373 Improvement: 6.08%\"\n",
      "[1] \"Iteration 37 (testdata) RMSE: 0.0373 Improvement: 6.08%\"\n",
      "[1] \"Iteration 38 (testdata) RMSE: 0.0373 Improvement: 6.08%\"\n",
      "[1] \"Iteration 39 (testdata) RMSE: 0.0373 Improvement: 6.08%\"\n",
      "[1] \"Iteration 40 (testdata) RMSE: 0.0373 Improvement: 6.03%\"\n",
      "[1] \"Iteration 41 (testdata) RMSE: 0.0374 Improvement: 5.89%\"\n",
      "[1] \"Iteration 42 (testdata) RMSE: 0.0374 Improvement: 5.84%\"\n",
      "[1] \"Iteration 43 (testdata) RMSE: 0.0374 Improvement: 5.82%\"\n",
      "[1] \"Iteration 44 (testdata) RMSE: 0.0374 Improvement: 5.76%\"\n",
      "[1] \"Iteration 45 (testdata) RMSE: 0.0374 Improvement: 5.73%\"\n",
      "[1] \"Iteration 46 (testdata) RMSE: 0.0374 Improvement: 5.73%\"\n",
      "[1] \"Iteration 47 (testdata) RMSE: 0.0374 Improvement: 5.73%\"\n",
      "[1] \"Iteration 48 (testdata) RMSE: 0.0374 Improvement: 5.73%\"\n",
      "[1] \"Iteration 49 (testdata) RMSE: 0.0374 Improvement: 5.73%\"\n",
      "[1] \"Iteration 50 (testdata) RMSE: 0.0374 Improvement: 5.73%\"\n",
      "[1] \"Iteration 51 (testdata) RMSE: 0.0374 Improvement: 5.73%\"\n",
      "[1] \"Iteration 52 (testdata) RMSE: 0.0374 Improvement: 5.73%\"\n",
      "[1] \"Iteration 53 (testdata) RMSE: 0.0374 Improvement: 5.73%\"\n",
      "[1] \"Iteration 54 (testdata) RMSE: 0.0374 Improvement: 5.73%\"\n",
      "[1] \"Iteration 55 (testdata) RMSE: 0.0374 Improvement: 5.73%\"\n",
      "[1] \"Iteration 56 (testdata) RMSE: 0.0374 Improvement: 5.73%\"\n",
      "[1] \"Iteration 57 (testdata) RMSE: 0.0374 Improvement: 5.73%\"\n",
      "[1] \"Iteration 58 (testdata) RMSE: 0.0374 Improvement: 5.73%\"\n",
      "[1] \"Iteration 59 (testdata) RMSE: 0.0374 Improvement: 5.73%\"\n",
      "[1] \"Iteration 60 (testdata) RMSE: 0.0374 Improvement: 5.73%\"\n",
      "[1] \"Iteration 61 (testdata) RMSE: 0.0374 Improvement: 5.73%\"\n",
      "[1] \"Iteration 62 (testdata) RMSE: 0.0374 Improvement: 5.73%\"\n",
      "[1] \"Iteration 63 (testdata) RMSE: 0.0374 Improvement: 5.73%\"\n",
      "[1] \"Iteration 64 (testdata) RMSE: 0.0374 Improvement: 5.73%\"\n",
      "[1] \"Iteration 65 (testdata) RMSE: 0.0374 Improvement: 5.73%\"\n",
      "[1] \"Iteration 66 (testdata) RMSE: 0.0374 Improvement: 5.73%\"\n",
      "[1] \"Iteration 67 (testdata) RMSE: 0.0374 Improvement: 5.73%\"\n",
      "[1] \"Iteration 68 (testdata) RMSE: 0.0374 Improvement: 5.73%\"\n",
      "[1] \"Iteration 69 (testdata) RMSE: 0.0374 Improvement: 5.73%\"\n",
      "[1] \"Iteration 70 (testdata) RMSE: 0.0374 Improvement: 5.73%\"\n",
      "[1] \"Iteration 71 (testdata) RMSE: 0.0374 Improvement: 5.73%\"\n",
      "[1] \"Iteration 72 (testdata) RMSE: 0.0374 Improvement: 5.73%\"\n",
      "[1] \"Iteration 73 (testdata) RMSE: 0.0374 Improvement: 5.73%\"\n",
      "[1] \"Iteration 74 (testdata) RMSE: 0.0374 Improvement: 5.73%\"\n",
      "[1] \"Iteration 75 (testdata) RMSE: 0.0374 Improvement: 5.73%\"\n",
      "[1] \"Iteration 76 (testdata) RMSE: 0.0374 Improvement: 5.73%\"\n",
      "[1] \"Iteration 77 (testdata) RMSE: 0.0374 Improvement: 5.73%\"\n",
      "[1] \"Iteration 78 (testdata) RMSE: 0.0374 Improvement: 5.73%\"\n",
      "[1] \"Iteration 79 (testdata) RMSE: 0.0374 Improvement: 5.73%\"\n",
      "[1] \"Iteration 80 (testdata) RMSE: 0.0374 Improvement: 5.73%\"\n",
      "[1] \"Iteration 81 (testdata) RMSE: 0.0374 Improvement: 5.73%\"\n",
      "[1] \"Iteration 82 (testdata) RMSE: 0.0374 Improvement: 5.73%\"\n",
      "[1] \"Iteration 83 (testdata) RMSE: 0.0374 Improvement: 5.73%\"\n",
      "[1] \"Iteration 84 (testdata) RMSE: 0.0374 Improvement: 5.73%\"\n",
      "[1] \"Iteration 85 (testdata) RMSE: 0.0374 Improvement: 5.73%\"\n",
      "[1] \"Iteration 86 (testdata) RMSE: 0.0374 Improvement: 5.73%\"\n",
      "[1] \"Iteration 87 (testdata) RMSE: 0.0374 Improvement: 5.73%\"\n",
      "[1] \"Iteration 88 (testdata) RMSE: 0.0374 Improvement: 5.73%\"\n",
      "[1] \"Iteration 89 (testdata) RMSE: 0.0374 Improvement: 5.73%\"\n",
      "[1] \"Iteration 90 (testdata) RMSE: 0.0374 Improvement: 5.73%\"\n",
      "[1] \"Iteration 91 (testdata) RMSE: 0.0374 Improvement: 5.73%\"\n",
      "[1] \"Iteration 92 (testdata) RMSE: 0.0374 Improvement: 5.73%\"\n",
      "[1] \"Iteration 93 (testdata) RMSE: 0.0374 Improvement: 5.73%\"\n",
      "[1] \"Iteration 94 (testdata) RMSE: 0.0374 Improvement: 5.73%\"\n",
      "[1] \"Iteration 95 (testdata) RMSE: 0.0374 Improvement: 5.73%\"\n",
      "[1] \"Iteration 96 (testdata) RMSE: 0.0374 Improvement: 5.73%\"\n",
      "[1] \"Iteration 97 (testdata) RMSE: 0.0374 Improvement: 5.73%\"\n",
      "[1] \"Iteration 98 (testdata) RMSE: 0.0374 Improvement: 5.73%\"\n",
      "[1] \"Iteration 99 (testdata) RMSE: 0.0374 Improvement: 5.73%\"\n",
      "[1] \"Iteration 100 (testdata) RMSE: 0.0374 Improvement: 5.73%\"\n",
      "[1] \"Iteration 101 (testdata) RMSE: 0.0374 Improvement: 5.73%\"\n",
      "[1] \"Iteration 102 (testdata) RMSE: 0.0374 Improvement: 5.73%\"\n",
      "[1] \"Iteration 103 (testdata) RMSE: 0.0374 Improvement: 5.73%\"\n",
      "[1] \"Iteration 104 (testdata) RMSE: 0.0374 Improvement: 5.73%\"\n",
      "[1] \"Iteration 105 (testdata) RMSE: 0.0374 Improvement: 5.73%\"\n",
      "[1] \"Iteration 106 (testdata) RMSE: 0.0374 Improvement: 5.73%\"\n",
      "[1] \"Iteration 107 (testdata) RMSE: 0.0374 Improvement: 5.73%\"\n",
      "[1] \"Iteration 108 (testdata) RMSE: 0.0374 Improvement: 5.73%\"\n",
      "[1] \"Iteration 109 (testdata) RMSE: 0.0374 Improvement: 5.73%\"\n",
      "[1] \"Iteration 110 (testdata) RMSE: 0.0374 Improvement: 5.73%\"\n",
      "[1] \"Iteration 111 (testdata) RMSE: 0.0374 Improvement: 5.73%\"\n",
      "[1] \"Iteration 112 (testdata) RMSE: 0.0374 Improvement: 5.73%\"\n",
      "[1] \"Iteration 113 (testdata) RMSE: 0.0374 Improvement: 5.73%\"\n",
      "[1] \"Iteration 114 (testdata) RMSE: 0.0374 Improvement: 5.73%\"\n",
      "[1] \"Iteration 115 (testdata) RMSE: 0.0374 Improvement: 5.73%\"\n",
      "[1] \"Iteration 116 (testdata) RMSE: 0.0374 Improvement: 5.73%\"\n",
      "[1] \"Iteration 117 (testdata) RMSE: 0.0374 Improvement: 5.73%\"\n",
      "[1] \"Iteration 118 (testdata) RMSE: 0.0374 Improvement: 5.73%\"\n",
      "[1] \"Iteration 119 (testdata) RMSE: 0.0374 Improvement: 5.73%\"\n",
      "[1] \"Iteration 120 (testdata) RMSE: 0.0374 Improvement: 5.73%\"\n",
      "[1] \"Iteration 121 (testdata) RMSE: 0.0374 Improvement: 5.73%\"\n",
      "[1] \"Iteration 122 (testdata) RMSE: 0.0374 Improvement: 5.73%\"\n",
      "[1] \"Iteration 123 (testdata) RMSE: 0.0374 Improvement: 5.73%\"\n",
      "[1] \"Iteration 124 (testdata) RMSE: 0.0374 Improvement: 5.73%\"\n",
      "[1] \"Iteration 125 (testdata) RMSE: 0.0374 Improvement: 5.73%\"\n",
      "[1] \"Iteration 126 (testdata) RMSE: 0.0374 Improvement: 5.73%\"\n",
      "[1] \"Iteration 127 (testdata) RMSE: 0.0374 Improvement: 5.73%\"\n",
      "[1] \"Iteration 128 (testdata) RMSE: 0.0374 Improvement: 5.73%\"\n",
      "[1] \"Iteration 129 (testdata) RMSE: 0.0374 Improvement: 5.73%\"\n",
      "[1] \"Iteration 130 (testdata) RMSE: 0.0374 Improvement: 5.73%\"\n",
      "[1] \"Iteration 131 (testdata) RMSE: 0.0374 Improvement: 5.73%\"\n",
      "[1] \"Iteration 132 (testdata) RMSE: 0.0374 Improvement: 5.73%\"\n",
      "[1] \"Iteration 133 (testdata) RMSE: 0.0374 Improvement: 5.73%\"\n",
      "[1] \"Iteration 134 (testdata) RMSE: 0.0374 Improvement: 5.73%\"\n",
      "[1] \"Iteration 135 (testdata) RMSE: 0.0374 Improvement: 5.73%\"\n",
      "[1] \"Iteration 136 (testdata) RMSE: 0.0374 Improvement: 5.73%\"\n",
      "[1] \"Iteration 137 (testdata) RMSE: 0.0374 Improvement: 5.73%\"\n",
      "[1] \"Iteration 138 (testdata) RMSE: 0.0374 Improvement: 5.73%\"\n",
      "[1] \"Iteration 139 (testdata) RMSE: 0.0374 Improvement: 5.73%\"\n",
      "[1] \"Iteration 140 (testdata) RMSE: 0.0374 Improvement: 5.73%\"\n",
      "[1] \"Iteration 141 (testdata) RMSE: 0.0374 Improvement: 5.73%\"\n",
      "[1] \"Iteration 142 (testdata) RMSE: 0.0374 Improvement: 5.73%\"\n",
      "[1] \"Iteration 143 (testdata) RMSE: 0.0374 Improvement: 5.73%\"\n",
      "[1] \"Iteration 144 (testdata) RMSE: 0.0374 Improvement: 5.73%\"\n",
      "[1] \"Iteration 145 (testdata) RMSE: 0.0374 Improvement: 5.73%\"\n",
      "[1] \"Iteration 146 (testdata) RMSE: 0.0374 Improvement: 5.73%\"\n",
      "[1] \"Iteration 147 (testdata) RMSE: 0.0374 Improvement: 5.73%\"\n",
      "[1] \"Iteration 148 (testdata) RMSE: 0.0374 Improvement: 5.73%\"\n",
      "[1] \"Iteration 149 (testdata) RMSE: 0.0374 Improvement: 5.73%\"\n",
      "[1] \"Iteration 150 (testdata) RMSE: 0.0374 Improvement: 5.73%\"\n",
      "[1] \"Iteration 151 (testdata) RMSE: 0.0374 Improvement: 5.73%\"\n",
      "[1] \"Iteration 152 (testdata) RMSE: 0.0374 Improvement: 5.73%\"\n",
      "[1] \"Iteration 153 (testdata) RMSE: 0.0374 Improvement: 5.73%\"\n",
      "[1] \"Iteration 154 (testdata) RMSE: 0.0374 Improvement: 5.73%\"\n",
      "[1] \"Iteration 155 (testdata) RMSE: 0.0374 Improvement: 5.73%\"\n",
      "[1] \"Iteration 156 (testdata) RMSE: 0.0374 Improvement: 5.73%\"\n",
      "[1] \"Iteration 157 (testdata) RMSE: 0.0374 Improvement: 5.73%\"\n",
      "[1] \"Iteration 158 (testdata) RMSE: 0.0374 Improvement: 5.73%\"\n",
      "[1] \"Iteration 159 (testdata) RMSE: 0.0374 Improvement: 5.73%\"\n",
      "[1] \"Iteration 160 (testdata) RMSE: 0.0374 Improvement: 5.73%\"\n",
      "[1] \"Iteration 161 (testdata) RMSE: 0.0374 Improvement: 5.73%\"\n",
      "[1] \"Iteration 162 (testdata) RMSE: 0.0374 Improvement: 5.73%\"\n",
      "[1] \"Iteration 163 (testdata) RMSE: 0.0374 Improvement: 5.73%\"\n",
      "[1] \"Iteration 164 (testdata) RMSE: 0.0374 Improvement: 5.73%\"\n",
      "[1] \"Iteration 165 (testdata) RMSE: 0.0374 Improvement: 5.73%\"\n",
      "[1] \"Iteration 166 (testdata) RMSE: 0.0374 Improvement: 5.73%\"\n",
      "[1] \"Iteration 167 (testdata) RMSE: 0.0374 Improvement: 5.73%\"\n",
      "[1] \"Iteration 168 (testdata) RMSE: 0.0374 Improvement: 5.73%\"\n",
      "[1] \"Iteration 169 (testdata) RMSE: 0.0374 Improvement: 5.73%\"\n",
      "[1] \"Iteration 170 (testdata) RMSE: 0.0374 Improvement: 5.73%\"\n",
      "[1] \"Iteration 171 (testdata) RMSE: 0.0374 Improvement: 5.73%\"\n",
      "[1] \"Iteration 172 (testdata) RMSE: 0.0374 Improvement: 5.73%\"\n",
      "[1] \"Iteration 173 (testdata) RMSE: 0.0374 Improvement: 5.73%\"\n",
      "[1] \"Iteration 174 (testdata) RMSE: 0.0374 Improvement: 5.73%\"\n",
      "[1] \"Iteration 175 (testdata) RMSE: 0.0374 Improvement: 5.73%\"\n",
      "[1] \"Iteration 176 (testdata) RMSE: 0.0374 Improvement: 5.73%\"\n",
      "[1] \"Iteration 177 (testdata) RMSE: 0.0374 Improvement: 5.73%\"\n",
      "[1] \"Iteration 178 (testdata) RMSE: 0.0374 Improvement: 5.73%\"\n",
      "[1] \"Iteration 179 (testdata) RMSE: 0.0374 Improvement: 5.73%\"\n",
      "[1] \"Iteration 180 (testdata) RMSE: 0.0374 Improvement: 5.73%\"\n",
      "[1] \"Iteration 181 (testdata) RMSE: 0.0374 Improvement: 5.73%\"\n",
      "[1] \"Iteration 182 (testdata) RMSE: 0.0374 Improvement: 5.73%\"\n",
      "[1] \"Iteration 183 (testdata) RMSE: 0.0374 Improvement: 5.73%\"\n",
      "[1] \"Iteration 184 (testdata) RMSE: 0.0374 Improvement: 5.73%\"\n",
      "[1] \"Iteration 185 (testdata) RMSE: 0.0374 Improvement: 5.73%\"\n",
      "[1] \"Iteration 186 (testdata) RMSE: 0.0374 Improvement: 5.73%\"\n",
      "[1] \"Iteration 187 (testdata) RMSE: 0.0374 Improvement: 5.73%\"\n",
      "[1] \"Iteration 188 (testdata) RMSE: 0.0374 Improvement: 5.73%\"\n",
      "[1] \"Iteration 189 (testdata) RMSE: 0.0374 Improvement: 5.73%\"\n",
      "[1] \"Iteration 190 (testdata) RMSE: 0.0374 Improvement: 5.73%\"\n",
      "[1] \"Iteration 191 (testdata) RMSE: 0.0374 Improvement: 5.73%\"\n",
      "[1] \"Iteration 192 (testdata) RMSE: 0.0374 Improvement: 5.73%\"\n",
      "[1] \"Iteration 193 (testdata) RMSE: 0.0374 Improvement: 5.73%\"\n",
      "[1] \"Iteration 194 (testdata) RMSE: 0.0374 Improvement: 5.73%\"\n",
      "[1] \"Iteration 195 (testdata) RMSE: 0.0374 Improvement: 5.73%\"\n",
      "[1] \"Iteration 196 (testdata) RMSE: 0.0374 Improvement: 5.73%\"\n",
      "[1] \"Iteration 197 (testdata) RMSE: 0.0374 Improvement: 5.73%\"\n",
      "[1] \"Iteration 198 (testdata) RMSE: 0.0374 Improvement: 5.73%\"\n",
      "[1] \"Iteration 199 (testdata) RMSE: 0.0374 Improvement: 5.73%\"\n",
      "[1] \"Iteration 200 (testdata) RMSE: 0.0374 Improvement: 5.73%\"\n"
     ]
    },
    {
     "data": {
      "text/html": [
       "0.0374194416309655"
      ],
      "text/latex": [
       "0.0374194416309655"
      ],
      "text/markdown": [
       "0.0374194416309655"
      ],
      "text/plain": [
       "[1] 0.03741944"
      ]
     },
     "metadata": {},
     "output_type": "display_data"
    },
    {
     "data": {
      "image/png": "[encoded data removed]",
      "text/plain": [
       "Plot with title “rmse”"
      ]
     },
     "metadata": {
      "image/png": {
       "height": 420,
       "width": 420
      }
     },
     "output_type": "display_data"
    }
   ],
   "source": [
    "regressors <- list(svm=e1071::svm)\n",
    "regressors.params = list(NULL)\n",
    "\n",
    "model <- ssr(\"pulloff ~ .\", regressors = regressors, regressors.params = regressors.params, L$trainset, U, testdata = L$testset, gr = 5, maxits = 200, pool.size = 1000)\n",
    "\n",
    "plot(model)\n",
    "\n",
    "preds <- predict(model, L$testset)\n",
    "\n",
    "sqrt(mean((preds - L$testset$pulloff)^2))"
   ]
  },
  {
   "cell_type": "code",
   "execution_count": null,
   "metadata": {
    "vscode": {
     "languageId": "r"
    }
   },
   "outputs": [],
   "source": []
  }
 ],
 "metadata": {
  "kernelspec": {
   "display_name": "R",
   "language": "R",
   "name": "ir"
  },
  "language_info": {
   "codemirror_mode": "r",
   "file_extension": ".r",
   "mimetype": "text/x-r-source",
   "name": "R",
   "pygments_lexer": "r",
   "version": "4.2.2"
  },
  "orig_nbformat": 4,
  "vscode": {
   "interpreter": {
    "hash": "916dbcbb3f70747c44a77c7bcd40155683ae19c65e1c03b4aa3499c5328201f1"
   }
  }
 },
 "nbformat": 4,
 "nbformat_minor": 2
}
